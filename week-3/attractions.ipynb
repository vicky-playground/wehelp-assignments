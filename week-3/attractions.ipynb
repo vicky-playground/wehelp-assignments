{
 "cells": [
  {
   "cell_type": "code",
   "execution_count": 24,
   "id": "5937e1e8",
   "metadata": {},
   "outputs": [],
   "source": [
    "\"\"\"\n",
    "要求一:Python 取得網路上的資料並儲存到檔案中 台北市政府提供景點公開資料連線網址如下:\n",
    "https://padax.github.io/taipei-day-trip-resources/taipei-attractions-assignment.json\n",
    "請撰寫一隻 Python 程式，能從以上網址取得資料，並且將景點資料用一行一筆資料的格式， 輸出到 data.csv 的檔案中，請將生成的 data.csv 檔案包含在你的作業資料夾中。\n",
    "提醒:區域資料請參考原始資料的地址欄位，必須是三個字，\n",
    "並且為以下區域的其中一個:中 正區、萬華區、中山區、大同區、大安區、松山區、信義區、士林區、文山區、北投區、內湖區、 南港區。\n",
    "\n",
    "\"\"\""
   ]
  },
  {
   "cell_type": "code",
   "execution_count": 110,
   "id": "68b3681d",
   "metadata": {},
   "outputs": [],
   "source": [
    "\"\"\"\n",
    "convert to CSV\n",
    "\"\"\"\n",
    "import  json, ssl, urllib.request\n",
    "import pandas as pd\n",
    "\n",
    "url = 'https://padax.github.io/taipei-day-trip-resources/taipei-attractions-assignment.json'\n",
    "context = ssl._create_unverified_context()\n",
    "\n",
    "with urllib.request.urlopen(url, context=context) as jsondata:\n",
    "    #將JSON進行UTF-8的BOM解碼，並把解碼後的資料載入JSON陣列中\n",
    "     data = json.loads(jsondata.read().decode('utf-8-sig')) \n",
    "\n"
   ]
  },
  {
   "cell_type": "code",
   "execution_count": 111,
   "id": "dd66d128",
   "metadata": {},
   "outputs": [],
   "source": [
    "dataList = data[\"result\"][\"results\"] # attraction list\n",
    "data = []\n",
    "# fetch the data of 'stitle' -> 'address' -> 'longitude' -> 'latitude' -> 'file'\n",
    "\n",
    "for i in range(len(dataList)):\n",
    "    for k in range(len(dataList[i])):\n",
    "        s =  [e+\"jpg\" for e in dataList[k][\"file\"].split(\"jpg\") if e]\n",
    "        data.append([dataList[k][\"stitle\"], dataList[k][\"address\"][5:8], dataList[k][\"longitude\"], dataList[k][\"latitude\"], s[0]])   \n",
    "        df = pd.DataFrame(data)\n",
    "df.to_csv('data.csv', index=False, header=[\"Place\",\"Area\",\"Longitude\",\"Latitude\",\"Image\"])\n",
    "       "
   ]
  },
  {
   "cell_type": "code",
   "execution_count": null,
   "id": "8b6d569d",
   "metadata": {},
   "outputs": [],
   "source": []
  }
 ],
 "metadata": {
  "kernelspec": {
   "display_name": "Python 3 (ipykernel)",
   "language": "python",
   "name": "python3"
  },
  "language_info": {
   "codemirror_mode": {
    "name": "ipython",
    "version": 3
   },
   "file_extension": ".py",
   "mimetype": "text/x-python",
   "name": "python",
   "nbconvert_exporter": "python",
   "pygments_lexer": "ipython3",
   "version": "3.9.7"
  }
 },
 "nbformat": 4,
 "nbformat_minor": 5
}
